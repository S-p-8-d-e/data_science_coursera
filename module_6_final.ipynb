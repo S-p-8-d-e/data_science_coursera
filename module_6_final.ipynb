{
 "cells": [
  {
   "cell_type": "markdown",
   "id": "99371131",
   "metadata": {},
   "source": [
    "# Hello World Assignment For Coursera"
   ]
  },
  {
   "cell_type": "markdown",
   "id": "422a9ed5",
   "metadata": {},
   "source": [
    "Author: Alex K"
   ]
  },
  {
   "cell_type": "markdown",
   "id": "6545b2a1",
   "metadata": {},
   "source": [
    "Introduction: This notebooks will display my final assignment for Module 6 - Tools for Data Science"
   ]
  },
  {
   "cell_type": "markdown",
   "id": "50c8147d",
   "metadata": {},
   "source": [
    "## Objectives:"
   ]
  },
  {
   "cell_type": "markdown",
   "id": "c7a3d697",
   "metadata": {},
   "source": [
    "List Data Science Languages\n",
    "List Data Science Tools\n",
    "List Data Science Libraries\n",
    "Create Code Shells\n",
    "Create Markdown Cells"
   ]
  },
  {
   "cell_type": "markdown",
   "id": "38049813",
   "metadata": {},
   "source": [
    "# Data Science Languages"
   ]
  },
  {
   "cell_type": "markdown",
   "id": "c3f976fe",
   "metadata": {},
   "source": [
    "Python\n",
    "R"
   ]
  },
  {
   "cell_type": "markdown",
   "id": "e3cf39e8",
   "metadata": {},
   "source": [
    "# Data Science Libraries"
   ]
  },
  {
   "cell_type": "markdown",
   "id": "02e93193",
   "metadata": {},
   "source": [
    "TensorFlow\n",
    "matlib\n",
    "pandas\n",
    "numpy"
   ]
  },
  {
   "cell_type": "markdown",
   "id": "cec0f1fc",
   "metadata": {},
   "source": [
    "# Table Data Science Tools\n",
    "\n"
   ]
  },
  {
   "cell_type": "markdown",
   "id": "b0bc5bb1",
   "metadata": {},
   "source": [
    "| Category | Name Of Tool|\n",
    "|-|-|\n",
    "|Visual|Tableau|\n",
    "|Language|Python|\n",
    "|Data Processing|Juypter Notebooks/Labs|"
   ]
  },
  {
   "cell_type": "markdown",
   "id": "cba5c5c6",
   "metadata": {},
   "source": [
    "PowerBI\n",
    "R Studio\n",
    "Juypter Notebooks/Lab\n",
    "ApacheSpark\n",
    "TensorFlow"
   ]
  },
  {
   "cell_type": "markdown",
   "id": "82a4b279",
   "metadata": {},
   "source": [
    "# Arithmetic Expression Examples"
   ]
  },
  {
   "cell_type": "markdown",
   "id": "dea96649",
   "metadata": {},
   "source": [
    "In the example below, you can see I sent each varible to an integer, they multiplied and added the varibles"
   ]
  },
  {
   "cell_type": "code",
   "execution_count": 7,
   "id": "d8a4a09f",
   "metadata": {},
   "outputs": [
    {
     "name": "stdout",
     "output_type": "stream",
     "text": [
      "5\n",
      "8\n"
     ]
    }
   ],
   "source": [
    "a = 2\n",
    "b = 3\n",
    "c = 4\n",
    "\n",
    "print(a + b)\n",
    "print(a * c)"
   ]
  },
  {
   "cell_type": "code",
   "execution_count": null,
   "id": "356681ea",
   "metadata": {},
   "outputs": [
    {
     "name": "stdout",
     "output_type": "stream",
     "text": [
      "6.0\n"
     ]
    }
   ],
   "source": [
    "# numbers of minutes I want to convert.\n",
    "minutes = 360\n",
    "\n",
    "# number of minutes per hour\n",
    "b = 60\n",
    "\n",
    "print(minutes/b)"
   ]
  }
 ],
 "metadata": {
  "kernelspec": {
   "display_name": "base",
   "language": "python",
   "name": "python3"
  },
  "language_info": {
   "codemirror_mode": {
    "name": "ipython",
    "version": 3
   },
   "file_extension": ".py",
   "mimetype": "text/x-python",
   "name": "python",
   "nbconvert_exporter": "python",
   "pygments_lexer": "ipython3",
   "version": "3.13.5"
  }
 },
 "nbformat": 4,
 "nbformat_minor": 5
}
